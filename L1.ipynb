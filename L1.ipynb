{
  "nbformat": 4,
  "nbformat_minor": 0,
  "metadata": {
    "colab": {
      "name": "L1.ipynb",
      "version": "0.3.2",
      "views": {},
      "default_view": {},
      "provenance": [
        {
          "file_id": "1XISNlMYJpyU5yMiuf733YsWrDf0q8YKJ",
          "timestamp": 1517688322781
        }
      ],
      "collapsed_sections": []
    },
    "kernelspec": {
      "name": "python3",
      "display_name": "Python 3"
    },
    "accelerator": "GPU"
  },
  "cells": [
    {
      "metadata": {
        "id": "huvNKo1Y8896",
        "colab_type": "code",
        "colab": {
          "autoexec": {
            "startup": false,
            "wait_interval": 0
          }
        }
      },
      "cell_type": "code",
      "source": [
        "import tensorflow as tf"
      ],
      "execution_count": 0,
      "outputs": []
    },
    {
      "metadata": {
        "id": "BHtvcajQ9YUS",
        "colab_type": "code",
        "colab": {
          "autoexec": {
            "startup": false,
            "wait_interval": 0
          },
          "output_extras": [
            {
              "item_id": 1
            }
          ],
          "base_uri": "https://localhost:8080/",
          "height": 34
        },
        "outputId": "42e9efa9-ad43-4c73-abb8-f57ada8e03ab",
        "executionInfo": {
          "status": "ok",
          "timestamp": 1522708227678,
          "user_tz": -330,
          "elapsed": 2888,
          "user": {
            "displayName": "Iresh Mishra",
            "photoUrl": "https://lh3.googleusercontent.com/a/default-user=s128",
            "userId": "113084233984419493374"
          }
        }
      },
      "cell_type": "code",
      "source": [
        " tf.test.gpu_device_name()"
      ],
      "execution_count": 3,
      "outputs": [
        {
          "output_type": "execute_result",
          "data": {
            "text/plain": [
              "'/device:GPU:0'"
            ]
          },
          "metadata": {
            "tags": []
          },
          "execution_count": 3
        }
      ]
    },
    {
      "metadata": {
        "id": "-Ui2REZi9efb",
        "colab_type": "code",
        "colab": {
          "autoexec": {
            "startup": false,
            "wait_interval": 0
          },
          "output_extras": [
            {
              "item_id": 5
            }
          ],
          "base_uri": "https://localhost:8080/",
          "height": 278
        },
        "outputId": "df29436b-51e2-48fb-c5dc-f941a32124da",
        "executionInfo": {
          "status": "ok",
          "timestamp": 1522708233862,
          "user_tz": -330,
          "elapsed": 5992,
          "user": {
            "displayName": "Iresh Mishra",
            "photoUrl": "https://lh3.googleusercontent.com/a/default-user=s128",
            "userId": "113084233984419493374"
          }
        }
      },
      "cell_type": "code",
      "source": [
        "!pip install http://download.pytorch.org/whl/cu80/torch-0.3.0.post4-cp36-cp36m-linux_x86_64.whl  && pip install torchvision\n",
        "  \n",
        "\n"
      ],
      "execution_count": 4,
      "outputs": [
        {
          "output_type": "stream",
          "text": [
            "Requirement already satisfied: torch==0.3.0.post4 from http://download.pytorch.org/whl/cu80/torch-0.3.0.post4-cp36-cp36m-linux_x86_64.whl in /usr/local/lib/python3.6/dist-packages\r\n",
            "Requirement already satisfied: numpy in /usr/local/lib/python3.6/dist-packages (from torch==0.3.0.post4)\r\n",
            "Requirement already satisfied: pyyaml in /usr/local/lib/python3.6/dist-packages (from torch==0.3.0.post4)\n",
            "Requirement already satisfied: torchvision in /usr/local/lib/python3.6/dist-packages\n",
            "Requirement already satisfied: six in /usr/local/lib/python3.6/dist-packages (from torchvision)\n",
            "Collecting pillow>=4.1.1 (from torchvision)\n",
            "  Using cached Pillow-5.1.0-cp36-cp36m-manylinux1_x86_64.whl\n",
            "Requirement already satisfied: torch in /usr/local/lib/python3.6/dist-packages (from torchvision)\n",
            "Requirement already satisfied: numpy in /usr/local/lib/python3.6/dist-packages (from torchvision)\n",
            "Requirement already satisfied: pyyaml in /usr/local/lib/python3.6/dist-packages (from torch->torchvision)\n",
            "Installing collected packages: pillow\n",
            "  Found existing installation: Pillow 4.0.0\n",
            "    Uninstalling Pillow-4.0.0:\n",
            "      Successfully uninstalled Pillow-4.0.0\n",
            "Successfully installed pillow-5.1.0\n"
          ],
          "name": "stdout"
        }
      ]
    },
    {
      "metadata": {
        "id": "DNXWPraq-5Oh",
        "colab_type": "code",
        "colab": {
          "autoexec": {
            "startup": false,
            "wait_interval": 0
          },
          "output_extras": [
            {
              "item_id": 4
            }
          ],
          "base_uri": "https://localhost:8080/",
          "height": 1754
        },
        "outputId": "1b91dfd6-ef52-4ed2-f4ca-c5fd353c9db1",
        "executionInfo": {
          "status": "ok",
          "timestamp": 1522708238286,
          "user_tz": -330,
          "elapsed": 4194,
          "user": {
            "displayName": "Iresh Mishra",
            "photoUrl": "https://lh3.googleusercontent.com/a/default-user=s128",
            "userId": "113084233984419493374"
          }
        }
      },
      "cell_type": "code",
      "source": [
        " !pip install fastai"
      ],
      "execution_count": 5,
      "outputs": [
        {
          "output_type": "stream",
          "text": [
            "Requirement already satisfied: fastai in /usr/local/lib/python3.6/dist-packages\n",
            "Requirement already satisfied: mistune in /usr/local/lib/python3.6/dist-packages (from fastai)\n",
            "Requirement already satisfied: PyYAML in /usr/local/lib/python3.6/dist-packages (from fastai)\n",
            "Requirement already satisfied: nbformat in /usr/local/lib/python3.6/dist-packages (from fastai)\n",
            "Requirement already satisfied: olefile in /usr/local/lib/python3.6/dist-packages (from fastai)\n",
            "Requirement already satisfied: pandas-summary in /usr/local/lib/python3.6/dist-packages (from fastai)\n",
            "Requirement already satisfied: ipython in /usr/local/lib/python3.6/dist-packages (from fastai)\n",
            "Requirement already satisfied: pickleshare in /usr/local/lib/python3.6/dist-packages (from fastai)\n",
            "Requirement already satisfied: jsonschema in /usr/local/lib/python3.6/dist-packages (from fastai)\n",
            "Requirement already satisfied: prompt-toolkit in /usr/local/lib/python3.6/dist-packages (from fastai)\n",
            "Requirement already satisfied: bcolz in /usr/local/lib/python3.6/dist-packages (from fastai)\n",
            "Requirement already satisfied: pexpect in /usr/local/lib/python3.6/dist-packages (from fastai)\n",
            "Requirement already satisfied: pandocfilters in /usr/local/lib/python3.6/dist-packages (from fastai)\n",
            "Requirement already satisfied: opencv-python in /usr/local/lib/python3.6/dist-packages (from fastai)\n",
            "Requirement already satisfied: plotnine in /usr/local/lib/python3.6/dist-packages (from fastai)\n",
            "Requirement already satisfied: notebook in /usr/local/lib/python3.6/dist-packages (from fastai)\n",
            "Requirement already satisfied: ipykernel in /usr/local/lib/python3.6/dist-packages (from fastai)\n",
            "Requirement already satisfied: seaborn in /usr/local/lib/python3.6/dist-packages (from fastai)\n",
            "Requirement already satisfied: six in /usr/local/lib/python3.6/dist-packages (from fastai)\n",
            "Requirement already satisfied: feather-format in /usr/local/lib/python3.6/dist-packages (from fastai)\n",
            "Requirement already satisfied: entrypoints in /usr/local/lib/python3.6/dist-packages (from fastai)\n",
            "Requirement already satisfied: jupyter-console in /usr/local/lib/python3.6/dist-packages (from fastai)\n",
            "Requirement already satisfied: pyzmq in /usr/local/lib/python3.6/dist-packages (from fastai)\n",
            "Requirement already satisfied: sklearn-pandas in /usr/local/lib/python3.6/dist-packages (from fastai)\n",
            "Requirement already satisfied: scipy in /usr/local/lib/python3.6/dist-packages (from fastai)\n",
            "Requirement already satisfied: certifi in /usr/local/lib/python3.6/dist-packages (from fastai)\n",
            "Requirement already satisfied: wcwidth in /usr/local/lib/python3.6/dist-packages (from fastai)\n",
            "Requirement already satisfied: widgetsnbextension in /usr/local/lib/python3.6/dist-packages (from fastai)\n",
            "Requirement already satisfied: tornado in /usr/local/lib/python3.6/dist-packages (from fastai)\n",
            "Requirement already satisfied: nbconvert in /usr/local/lib/python3.6/dist-packages (from fastai)\n",
            "Requirement already satisfied: terminado in /usr/local/lib/python3.6/dist-packages (from fastai)\n",
            "Requirement already satisfied: numpy in /usr/local/lib/python3.6/dist-packages (from fastai)\n",
            "Requirement already satisfied: pyparsing in /usr/local/lib/python3.6/dist-packages (from fastai)\n",
            "Requirement already satisfied: jupyter-core in /usr/local/lib/python3.6/dist-packages (from fastai)\n",
            "Requirement already satisfied: Jinja2 in /usr/local/lib/python3.6/dist-packages (from fastai)\n",
            "Requirement already satisfied: python-dateutil in /usr/local/lib/python3.6/dist-packages (from fastai)\n",
            "Requirement already satisfied: cycler in /usr/local/lib/python3.6/dist-packages (from fastai)\n",
            "Requirement already satisfied: Pillow in /usr/local/lib/python3.6/dist-packages (from fastai)\n",
            "Requirement already satisfied: simplegeneric in /usr/local/lib/python3.6/dist-packages (from fastai)\n",
            "Requirement already satisfied: ipywidgets in /usr/local/lib/python3.6/dist-packages (from fastai)\n",
            "Requirement already satisfied: traitlets in /usr/local/lib/python3.6/dist-packages (from fastai)\n",
            "Requirement already satisfied: jupyter in /usr/local/lib/python3.6/dist-packages (from fastai)\n",
            "Requirement already satisfied: Pygments in /usr/local/lib/python3.6/dist-packages (from fastai)\n",
            "Requirement already satisfied: jedi in /usr/local/lib/python3.6/dist-packages (from fastai)\n",
            "Requirement already satisfied: kaggle-cli in /usr/local/lib/python3.6/dist-packages (from fastai)\n",
            "Requirement already satisfied: bleach in /usr/local/lib/python3.6/dist-packages (from fastai)\n",
            "Requirement already satisfied: isoweek in /usr/local/lib/python3.6/dist-packages (from fastai)\n",
            "Requirement already satisfied: ptyprocess in /usr/local/lib/python3.6/dist-packages (from fastai)\n",
            "Requirement already satisfied: html5lib in /usr/local/lib/python3.6/dist-packages (from fastai)\n",
            "Requirement already satisfied: ipython-genutils in /usr/local/lib/python3.6/dist-packages (from fastai)\n",
            "Requirement already satisfied: jupyter-client in /usr/local/lib/python3.6/dist-packages (from fastai)\n",
            "Requirement already satisfied: graphviz in /usr/local/lib/python3.6/dist-packages (from fastai)\n",
            "Requirement already satisfied: jupyter-contrib-nbextensions in /usr/local/lib/python3.6/dist-packages (from fastai)\n",
            "Requirement already satisfied: pandas in /usr/local/lib/python3.6/dist-packages (from fastai)\n",
            "Requirement already satisfied: pytz in /usr/local/lib/python3.6/dist-packages (from fastai)\n",
            "Requirement already satisfied: matplotlib in /usr/local/lib/python3.6/dist-packages (from fastai)\n",
            "Requirement already satisfied: decorator in /usr/local/lib/python3.6/dist-packages (from fastai)\n",
            "Requirement already satisfied: webencodings in /usr/local/lib/python3.6/dist-packages (from fastai)\n",
            "Requirement already satisfied: qtconsole in /usr/local/lib/python3.6/dist-packages (from fastai)\n",
            "Requirement already satisfied: testpath in /usr/local/lib/python3.6/dist-packages (from fastai)\n",
            "Requirement already satisfied: MarkupSafe in /usr/local/lib/python3.6/dist-packages (from fastai)\n",
            "Requirement already satisfied: torchtext in /usr/local/lib/python3.6/dist-packages (from fastai)\n",
            "Requirement already satisfied: awscli in /usr/local/lib/python3.6/dist-packages (from fastai)\n",
            "Requirement already satisfied: tqdm in /usr/local/lib/python3.6/dist-packages (from fastai)\n",
            "Requirement already satisfied: setuptools>=18.5 in /usr/lib/python3/dist-packages (from ipython->fastai)\n",
            "Requirement already satisfied: patsy>=0.4.1 in /usr/local/lib/python3.6/dist-packages (from plotnine->fastai)\n",
            "Requirement already satisfied: mizani>=0.4.1 in /usr/local/lib/python3.6/dist-packages (from plotnine->fastai)\n",
            "Requirement already satisfied: statsmodels>=0.8.0 in /usr/local/lib/python3.6/dist-packages (from plotnine->fastai)\n",
            "Requirement already satisfied: pyarrow>=0.4.0 in /usr/local/lib/python3.6/dist-packages (from feather-format->fastai)\n",
            "Requirement already satisfied: scikit-learn>=0.15.0 in /usr/local/lib/python3.6/dist-packages (from sklearn-pandas->fastai)\n",
            "Requirement already satisfied: parso==0.1.1 in /usr/local/lib/python3.6/dist-packages (from jedi->fastai)\n",
            "Requirement already satisfied: MechanicalSoup<0.9,>=0.7.0 in /usr/local/lib/python3.6/dist-packages (from kaggle-cli->fastai)\n",
            "Requirement already satisfied: configparser in /usr/local/lib/python3.6/dist-packages (from kaggle-cli->fastai)\n",
            "Requirement already satisfied: cliff<2.9,>=2.8.0 in /usr/local/lib/python3.6/dist-packages (from kaggle-cli->fastai)\n",
            "Requirement already satisfied: cssselect<1.1,>=1.0.1 in /usr/local/lib/python3.6/dist-packages (from kaggle-cli->fastai)\n",
            "Requirement already satisfied: beautifulsoup4<4.7,>=4.6.0 in /usr/local/lib/python3.6/dist-packages (from kaggle-cli->fastai)\n",
            "Requirement already satisfied: progressbar2<3.35,>=3.34.3 in /usr/local/lib/python3.6/dist-packages (from kaggle-cli->fastai)\n",
            "Requirement already satisfied: lxml<4.1,>=4.0.0 in /usr/local/lib/python3.6/dist-packages (from kaggle-cli->fastai)\n",
            "Requirement already satisfied: jupyter-highlight-selected-word>=0.1.1 in /usr/local/lib/python3.6/dist-packages (from jupyter-contrib-nbextensions->fastai)\n",
            "Requirement already satisfied: jupyter-nbextensions-configurator>=0.4.0 in /usr/local/lib/python3.6/dist-packages (from jupyter-contrib-nbextensions->fastai)\n",
            "Requirement already satisfied: jupyter-contrib-core>=0.3.3 in /usr/local/lib/python3.6/dist-packages (from jupyter-contrib-nbextensions->fastai)\n",
            "Requirement already satisfied: jupyter-latex-envs>=1.3.8 in /usr/local/lib/python3.6/dist-packages (from jupyter-contrib-nbextensions->fastai)\n",
            "Requirement already satisfied: requests in /usr/local/lib/python3.6/dist-packages (from torchtext->fastai)\n",
            "Requirement already satisfied: colorama<=0.3.7,>=0.2.5 in /usr/local/lib/python3.6/dist-packages (from awscli->fastai)\n",
            "Requirement already satisfied: docutils>=0.10 in /usr/local/lib/python3.6/dist-packages (from awscli->fastai)\n",
            "Requirement already satisfied: botocore==1.9.21 in /usr/local/lib/python3.6/dist-packages (from awscli->fastai)\n",
            "Requirement already satisfied: rsa<=3.5.0,>=3.1.2 in /usr/local/lib/python3.6/dist-packages (from awscli->fastai)\n",
            "Requirement already satisfied: s3transfer<0.2.0,>=0.1.12 in /usr/local/lib/python3.6/dist-packages (from awscli->fastai)\n",
            "Requirement already satisfied: palettable in /usr/local/lib/python3.6/dist-packages (from mizani>=0.4.1->plotnine->fastai)\n",
            "Requirement already satisfied: stevedore>=1.20.0 in /usr/local/lib/python3.6/dist-packages (from cliff<2.9,>=2.8.0->kaggle-cli->fastai)\n",
            "Requirement already satisfied: pbr!=2.1.0,>=2.0.0 in /usr/local/lib/python3.6/dist-packages (from cliff<2.9,>=2.8.0->kaggle-cli->fastai)\n",
            "Requirement already satisfied: cmd2>=0.6.7 in /usr/local/lib/python3.6/dist-packages (from cliff<2.9,>=2.8.0->kaggle-cli->fastai)\n",
            "Requirement already satisfied: PrettyTable<0.8,>=0.7.1 in /usr/local/lib/python3.6/dist-packages (from cliff<2.9,>=2.8.0->kaggle-cli->fastai)\n",
            "Requirement already satisfied: python-utils>=2.1.0 in /usr/local/lib/python3.6/dist-packages (from progressbar2<3.35,>=3.34.3->kaggle-cli->fastai)\n",
            "Requirement already satisfied: urllib3<1.23,>=1.21.1 in /usr/local/lib/python3.6/dist-packages (from requests->torchtext->fastai)\n",
            "Requirement already satisfied: chardet<3.1.0,>=3.0.2 in /usr/local/lib/python3.6/dist-packages (from requests->torchtext->fastai)\n",
            "Requirement already satisfied: idna<2.7,>=2.5 in /usr/local/lib/python3.6/dist-packages (from requests->torchtext->fastai)\n",
            "Requirement already satisfied: jmespath<1.0.0,>=0.7.1 in /usr/local/lib/python3.6/dist-packages (from botocore==1.9.21->awscli->fastai)\n",
            "Requirement already satisfied: pyasn1>=0.1.3 in /usr/local/lib/python3.6/dist-packages (from rsa<=3.5.0,>=3.1.2->awscli->fastai)\n",
            "Requirement already satisfied: pyperclip in /usr/local/lib/python3.6/dist-packages (from cmd2>=0.6.7->cliff<2.9,>=2.8.0->kaggle-cli->fastai)\n"
          ],
          "name": "stdout"
        }
      ]
    },
    {
      "metadata": {
        "id": "f-9hWp-9_hh0",
        "colab_type": "code",
        "colab": {
          "autoexec": {
            "startup": false,
            "wait_interval": 0
          },
          "output_extras": [
            {
              "item_id": 8
            }
          ],
          "base_uri": "https://localhost:8080/",
          "height": 260
        },
        "outputId": "5199133c-3912-40e8-9789-50ffc1287a08",
        "executionInfo": {
          "status": "ok",
          "timestamp": 1522708243842,
          "user_tz": -330,
          "elapsed": 5408,
          "user": {
            "displayName": "Iresh Mishra",
            "photoUrl": "https://lh3.googleusercontent.com/a/default-user=s128",
            "userId": "113084233984419493374"
          }
        }
      },
      "cell_type": "code",
      "source": [
        "!apt update && apt install -y libsm6 libxext6"
      ],
      "execution_count": 6,
      "outputs": [
        {
          "output_type": "stream",
          "text": [
            "Hit:1 http://archive.ubuntu.com/ubuntu artful InRelease\n",
            "Hit:2 http://security.ubuntu.com/ubuntu artful-security InRelease\n",
            "Hit:3 http://archive.ubuntu.com/ubuntu artful-updates InRelease\n",
            "Hit:4 http://archive.ubuntu.com/ubuntu artful-backports InRelease\n",
            "Reading package lists... Done\n",
            "Building dependency tree       \n",
            "Reading state information... Done\n",
            "11 packages can be upgraded. Run 'apt list --upgradable' to see them.\n",
            "Reading package lists... Done\n",
            "Building dependency tree       \n",
            "Reading state information... Done\n",
            "libsm6 is already the newest version (2:1.2.2-1).\n",
            "libxext6 is already the newest version (2:1.3.3-1).\n",
            "0 upgraded, 0 newly installed, 0 to remove and 11 not upgraded.\n"
          ],
          "name": "stdout"
        }
      ]
    },
    {
      "metadata": {
        "id": "TUcdgJyPElud",
        "colab_type": "text"
      },
      "cell_type": "markdown",
      "source": [
        "## Image classification with Convolutional Neural Networks"
      ]
    },
    {
      "metadata": {
        "id": "iYZ8GWbfEbsW",
        "colab_type": "text"
      },
      "cell_type": "markdown",
      "source": [
        "Welcome to the first week of the second deep learning certificate! We're going to use convolutional neural networks (CNNs) to allow our computer to see - something that is only possible thanks to deep learning."
      ]
    },
    {
      "metadata": {
        "id": "nppiESI0FPD4",
        "colab_type": "text"
      },
      "cell_type": "markdown",
      "source": [
        "## Introduction to our first task: 'Dogs vs Cats'"
      ]
    },
    {
      "metadata": {
        "id": "Emx1vzwjFRLA",
        "colab_type": "text"
      },
      "cell_type": "markdown",
      "source": [
        "*We*'re going to try to create a model to enter the Dogs vs Cats competition at Kaggle. There are 25,000 labelled dog and cat photos available for training, and 12,500 in the test set that we have to try to label for this competition. According to the Kaggle web-site, when this competition was launched (end of 2013): \"State of the art: The current literature suggests machine classifiers can score above 80% accuracy on this task\". So if we can beat 80%, then we will be at the cutting edge as of 2013!\n",
        "\n"
      ]
    },
    {
      "metadata": {
        "id": "ThH1_w5TFiD2",
        "colab_type": "code",
        "colab": {
          "autoexec": {
            "startup": false,
            "wait_interval": 0
          }
        }
      },
      "cell_type": "code",
      "source": [
        "#%reload_ext autoreload\n",
        "\n",
        "#%autoreload 2\n",
        "\n",
        "%matplotlib inline"
      ],
      "execution_count": 0,
      "outputs": []
    },
    {
      "metadata": {
        "id": "tiG-m1i8SZQ1",
        "colab_type": "text"
      },
      "cell_type": "markdown",
      "source": [
        "\n",
        "## THE ABOVE 2 LINES HAVE BEEN COMMENTED OUT TO RESOLVE THE \"PIL ERROR\" ENCOUNTERED LATER *[for displayin the cat's image im.show()]*"
      ]
    },
    {
      "metadata": {
        "id": "Cz6IVP4qG-ix",
        "colab_type": "code",
        "colab": {
          "autoexec": {
            "startup": false,
            "wait_interval": 0
          }
        }
      },
      "cell_type": "code",
      "source": [
        "#import every needed inport from fastai\n",
        "from fastai.imports import *"
      ],
      "execution_count": 0,
      "outputs": []
    },
    {
      "metadata": {
        "id": "RHSj8CBhHfQ2",
        "colab_type": "code",
        "colab": {
          "autoexec": {
            "startup": false,
            "wait_interval": 0
          }
        }
      },
      "cell_type": "code",
      "source": [
        "from fastai.transforms import *\n",
        "from fastai.conv_learner import *\n",
        "from fastai.model import *\n",
        "from fastai.dataset import *\n",
        "from fastai.sgdr import *\n",
        "from fastai.plots import *"
      ],
      "execution_count": 0,
      "outputs": []
    },
    {
      "metadata": {
        "id": "f3Hu5welIfb4",
        "colab_type": "text"
      },
      "cell_type": "markdown",
      "source": [
        "PATH is the path to your data - if you use the recommended setup approaches from the lesson, you won't need to change this. sz is the size that the images will be resized to in order to ensure that the training runs quickly. We'll be talking about this parameter a lot during the course. Leave it at 224 for now.\n",
        "\n"
      ]
    },
    {
      "metadata": {
        "id": "v1lThNX3YmFM",
        "colab_type": "code",
        "colab": {
          "autoexec": {
            "startup": false,
            "wait_interval": 0
          }
        }
      },
      "cell_type": "code",
      "source": [
        "PATH = \"data/dogscats/\"\n",
        "sz=224"
      ],
      "execution_count": 0,
      "outputs": []
    },
    {
      "metadata": {
        "id": "vzAMnGbrY7oZ",
        "colab_type": "code",
        "colab": {
          "autoexec": {
            "startup": false,
            "wait_interval": 0
          },
          "output_extras": [
            {
              "item_id": 1
            }
          ],
          "base_uri": "https://localhost:8080/",
          "height": 34
        },
        "outputId": "f62a7ab7-4d80-4d73-e9fc-25338ed4db33",
        "executionInfo": {
          "status": "ok",
          "timestamp": 1522708251114,
          "user_tz": -330,
          "elapsed": 1014,
          "user": {
            "displayName": "Iresh Mishra",
            "photoUrl": "https://lh3.googleusercontent.com/a/default-user=s128",
            "userId": "113084233984419493374"
          }
        }
      },
      "cell_type": "code",
      "source": [
        "torch.cuda.is_available()"
      ],
      "execution_count": 10,
      "outputs": [
        {
          "output_type": "execute_result",
          "data": {
            "text/plain": [
              "True"
            ]
          },
          "metadata": {
            "tags": []
          },
          "execution_count": 10
        }
      ]
    },
    {
      "metadata": {
        "id": "oiNugGwIZVNs",
        "colab_type": "code",
        "colab": {
          "autoexec": {
            "startup": false,
            "wait_interval": 0
          },
          "output_extras": [
            {
              "item_id": 1
            }
          ],
          "base_uri": "https://localhost:8080/",
          "height": 34
        },
        "outputId": "f6ffc530-7ea9-4da9-81c0-8a314bec9f66",
        "executionInfo": {
          "status": "ok",
          "timestamp": 1522708252878,
          "user_tz": -330,
          "elapsed": 1250,
          "user": {
            "displayName": "Iresh Mishra",
            "photoUrl": "https://lh3.googleusercontent.com/a/default-user=s128",
            "userId": "113084233984419493374"
          }
        }
      },
      "cell_type": "code",
      "source": [
        "torch.backends.cudnn.enabled"
      ],
      "execution_count": 11,
      "outputs": [
        {
          "output_type": "execute_result",
          "data": {
            "text/plain": [
              "True"
            ]
          },
          "metadata": {
            "tags": []
          },
          "execution_count": 11
        }
      ]
    },
    {
      "metadata": {
        "id": "R6bA9VubHmkh",
        "colab_type": "code",
        "colab": {
          "autoexec": {
            "startup": false,
            "wait_interval": 0
          },
          "output_extras": [
            {}
          ],
          "base_uri": "https://localhost:8080/",
          "height": 173
        },
        "outputId": "2df743ac-1943-4aec-a761-3a34ac5516a0",
        "executionInfo": {
          "status": "ok",
          "timestamp": 1522707507736,
          "user_tz": -330,
          "elapsed": 4286,
          "user": {
            "displayName": "Iresh Mishra",
            "photoUrl": "https://lh3.googleusercontent.com/a/default-user=s128",
            "userId": "113084233984419493374"
          }
        }
      },
      "cell_type": "code",
      "source": [
        "!wget http://files.fast.ai/data/dogscats.zip && unzip dogscats.zip -d data/\n",
        "!n"
      ],
      "execution_count": 0,
      "outputs": [
        {
          "output_type": "stream",
          "text": [
            "--2018-04-02 22:17:59--  http://files.fast.ai/data/dogscats.zip\r\n",
            "Resolving files.fast.ai (files.fast.ai)... 67.205.15.147\r\n",
            "Connecting to files.fast.ai (files.fast.ai)|67.205.15.147|:80... connected.\r\n",
            "HTTP request sent, awaiting response... 200 OK\r\n",
            "Length: 857214334 (818M) [application/zip]\r\n",
            "Saving to: ‘dogscats.zip.5’\r\n",
            "\n",
            "dogscats.zip.5        1%[                    ]  14.55M  18.1MB/s               ^C\n",
            "/bin/sh: 1: n: not found\n"
          ],
          "name": "stdout"
        }
      ]
    },
    {
      "metadata": {
        "id": "OBqqWHk-IbaW",
        "colab_type": "text"
      },
      "cell_type": "markdown",
      "source": [
        "#Note: Earlier the above cmd broke off sayin' \"INvalid Syntax\"... then executed the install wget command[the one before the previous cmd] and then it finally worked"
      ]
    },
    {
      "metadata": {
        "id": "pMJwMDmEaO1c",
        "colab_type": "text"
      },
      "cell_type": "markdown",
      "source": [
        "## *Note this Step.. slighlty differs from original NOtebook*"
      ]
    },
    {
      "metadata": {
        "id": "BaaanpUlag1V",
        "colab_type": "text"
      },
      "cell_type": "markdown",
      "source": [
        "## First Look at the CAT Pictures"
      ]
    },
    {
      "metadata": {
        "id": "V0c1Nq4QaoEd",
        "colab_type": "text"
      },
      "cell_type": "markdown",
      "source": [
        "Our library will assume that you have train and valid directories. It also assumes that each dir will have subdirs for each class you wish to recognize (in this case, 'cats' and 'dogs')."
      ]
    },
    {
      "metadata": {
        "id": "K5tpBLxoaYPK",
        "colab_type": "code",
        "colab": {
          "autoexec": {
            "startup": false,
            "wait_interval": 0
          },
          "output_extras": [
            {
              "item_id": 1
            }
          ],
          "base_uri": "https://localhost:8080/",
          "height": 34
        },
        "outputId": "83c9df8f-b701-442f-aae0-6973fc6e83fc",
        "executionInfo": {
          "status": "ok",
          "timestamp": 1522708255668,
          "user_tz": -330,
          "elapsed": 2084,
          "user": {
            "displayName": "Iresh Mishra",
            "photoUrl": "https://lh3.googleusercontent.com/a/default-user=s128",
            "userId": "113084233984419493374"
          }
        }
      },
      "cell_type": "code",
      "source": [
        "!ls {PATH}"
      ],
      "execution_count": 12,
      "outputs": [
        {
          "output_type": "stream",
          "text": [
            "models\tsample\ttest1  tmp  train  valid\r\n"
          ],
          "name": "stdout"
        }
      ]
    },
    {
      "metadata": {
        "id": "mF-7B3hnAi5R",
        "colab_type": "code",
        "colab": {
          "autoexec": {
            "startup": false,
            "wait_interval": 0
          },
          "output_extras": [
            {
              "item_id": 1
            }
          ],
          "base_uri": "https://localhost:8080/",
          "height": 34
        },
        "outputId": "a03cc94b-6e09-4dc5-a820-91547275c36a",
        "executionInfo": {
          "status": "ok",
          "timestamp": 1522708256732,
          "user_tz": -330,
          "elapsed": 862,
          "user": {
            "displayName": "Iresh Mishra",
            "photoUrl": "https://lh3.googleusercontent.com/a/default-user=s128",
            "userId": "113084233984419493374"
          }
        }
      },
      "cell_type": "code",
      "source": [
        "os.listdir(f'{PATH}valid')"
      ],
      "execution_count": 13,
      "outputs": [
        {
          "output_type": "execute_result",
          "data": {
            "text/plain": [
              "['cats', 'dogs']"
            ]
          },
          "metadata": {
            "tags": []
          },
          "execution_count": 13
        }
      ]
    },
    {
      "metadata": {
        "id": "qSXUrwGeAtSf",
        "colab_type": "code",
        "colab": {
          "autoexec": {
            "startup": false,
            "wait_interval": 0
          },
          "output_extras": [
            {
              "item_id": 1
            }
          ],
          "base_uri": "https://localhost:8080/",
          "height": 104
        },
        "outputId": "f9906558-fdc6-4a5b-eba6-07f8f16356ff",
        "executionInfo": {
          "status": "ok",
          "timestamp": 1522708258078,
          "user_tz": -330,
          "elapsed": 940,
          "user": {
            "displayName": "Iresh Mishra",
            "photoUrl": "https://lh3.googleusercontent.com/a/default-user=s128",
            "userId": "113084233984419493374"
          }
        }
      },
      "cell_type": "code",
      "source": [
        "files=os.listdir(f'{PATH}valid/cats')[:5]\n",
        "files"
      ],
      "execution_count": 14,
      "outputs": [
        {
          "output_type": "execute_result",
          "data": {
            "text/plain": [
              "['cat.1708.jpg',\n",
              " 'cat.5631.jpg',\n",
              " 'cat.5545.jpg',\n",
              " 'cat.4160.jpg',\n",
              " 'cat.6255.jpg']"
            ]
          },
          "metadata": {
            "tags": []
          },
          "execution_count": 14
        }
      ]
    },
    {
      "metadata": {
        "id": "hUh9TvGARvcP",
        "colab_type": "code",
        "colab": {
          "autoexec": {
            "startup": false,
            "wait_interval": 0
          },
          "output_extras": [
            {
              "item_id": 8
            }
          ],
          "base_uri": "https://localhost:8080/",
          "height": 295
        },
        "outputId": "a5e719b8-61ef-45f2-fa05-7f9bb74006c4",
        "executionInfo": {
          "status": "ok",
          "timestamp": 1522708268762,
          "user_tz": -330,
          "elapsed": 10122,
          "user": {
            "displayName": "Iresh Mishra",
            "photoUrl": "https://lh3.googleusercontent.com/a/default-user=s128",
            "userId": "113084233984419493374"
          }
        }
      },
      "cell_type": "code",
      "source": [
        "!pip install Pillow==4.0.0\n",
        "!pip install PIL\n",
        "!pip install image\n",
        "#import PIL.image"
      ],
      "execution_count": 15,
      "outputs": [
        {
          "output_type": "stream",
          "text": [
            "Collecting Pillow==4.0.0\n",
            "  Using cached Pillow-4.0.0-cp36-cp36m-manylinux1_x86_64.whl\n",
            "Requirement already satisfied: olefile in /usr/local/lib/python3.6/dist-packages (from Pillow==4.0.0)\n",
            "Installing collected packages: Pillow\n",
            "  Found existing installation: Pillow 5.1.0\n",
            "    Uninstalling Pillow-5.1.0:\n",
            "      Successfully uninstalled Pillow-5.1.0\n",
            "Successfully installed Pillow-4.0.0\n",
            "Collecting PIL\n",
            "\u001b[31m  Could not find a version that satisfies the requirement PIL (from versions: )\u001b[0m\n",
            "\u001b[31mNo matching distribution found for PIL\u001b[0m\n",
            "Requirement already satisfied: image in /usr/local/lib/python3.6/dist-packages\n",
            "Requirement already satisfied: django in /usr/local/lib/python3.6/dist-packages (from image)\n",
            "Requirement already satisfied: pillow in /usr/local/lib/python3.6/dist-packages (from image)\n",
            "Requirement already satisfied: pytz in /usr/local/lib/python3.6/dist-packages (from django->image)\n",
            "Requirement already satisfied: olefile in /usr/local/lib/python3.6/dist-packages (from pillow->image)\n"
          ],
          "name": "stdout"
        }
      ]
    },
    {
      "metadata": {
        "id": "6573mjKrA5XT",
        "colab_type": "code",
        "colab": {
          "autoexec": {
            "startup": false,
            "wait_interval": 0
          },
          "output_extras": [
            {
              "item_id": 1
            }
          ],
          "base_uri": "https://localhost:8080/",
          "height": 351
        },
        "outputId": "6c168f96-07ba-4ed0-f608-37d28e60356c",
        "executionInfo": {
          "status": "ok",
          "timestamp": 1522708271168,
          "user_tz": -330,
          "elapsed": 2238,
          "user": {
            "displayName": "Iresh Mishra",
            "photoUrl": "https://lh3.googleusercontent.com/a/default-user=s128",
            "userId": "113084233984419493374"
          }
        }
      },
      "cell_type": "code",
      "source": [
        "#img=plt.imread(f'{PATH}valid/cats/{files[0]}')\n",
        "#plt.imshow(img);\n",
        "\n",
        "img = plt.imread(f'{PATH}valid/cats/{files[0]}')\n",
        "plt.imshow(img);"
      ],
      "execution_count": 16,
      "outputs": [
        {
          "output_type": "display_data",
          "data": {
            "image/png": "[encoded data removed]",
            "text/plain": [
              "<matplotlib.figure.Figure at 0x7fb51955acc0>"
            ]
          },
          "metadata": {
            "tags": []
          }
        }
      ]
    },
    {
      "metadata": {
        "id": "t9hVdytgA-p3",
        "colab_type": "code",
        "colab": {
          "autoexec": {
            "startup": false,
            "wait_interval": 0
          }
        }
      },
      "cell_type": "code",
      "source": [
        "#img = plt.imread(f'{PATH}valid/cats/{files[0]}')\n",
        "#plt.imshow(img);"
      ],
      "execution_count": 0,
      "outputs": []
    },
    {
      "metadata": {
        "id": "8avVdhtcBDeM",
        "colab_type": "code",
        "colab": {
          "autoexec": {
            "startup": false,
            "wait_interval": 0
          },
          "output_extras": [
            {
              "item_id": 1
            }
          ],
          "base_uri": "https://localhost:8080/",
          "height": 34
        },
        "outputId": "e6b470dd-aa87-4af5-8568-92e421fea674",
        "executionInfo": {
          "status": "ok",
          "timestamp": 1522708274318,
          "user_tz": -330,
          "elapsed": 912,
          "user": {
            "displayName": "Iresh Mishra",
            "photoUrl": "https://lh3.googleusercontent.com/a/default-user=s128",
            "userId": "113084233984419493374"
          }
        }
      },
      "cell_type": "code",
      "source": [
        "img.shape"
      ],
      "execution_count": 18,
      "outputs": [
        {
          "output_type": "execute_result",
          "data": {
            "text/plain": [
              "(448, 321, 3)"
            ]
          },
          "metadata": {
            "tags": []
          },
          "execution_count": 18
        }
      ]
    },
    {
      "metadata": {
        "id": "V48V86ufVwbh",
        "colab_type": "code",
        "colab": {
          "autoexec": {
            "startup": false,
            "wait_interval": 0
          },
          "output_extras": [
            {
              "item_id": 1
            }
          ],
          "base_uri": "https://localhost:8080/",
          "height": 347
        },
        "outputId": "76d5d2a0-7379-4bac-adae-590c9c8142d0",
        "executionInfo": {
          "status": "ok",
          "timestamp": 1522709352596,
          "user_tz": -330,
          "elapsed": 1030,
          "user": {
            "displayName": "Iresh Mishra",
            "photoUrl": "https://lh3.googleusercontent.com/a/default-user=s128",
            "userId": "113084233984419493374"
          }
        }
      },
      "cell_type": "code",
      "source": [
        "img[:4,:4]"
      ],
      "execution_count": 42,
      "outputs": [
        {
          "output_type": "execute_result",
          "data": {
            "text/plain": [
              "array([[[45, 37, 35],\n",
              "        [45, 37, 35],\n",
              "        [45, 37, 35],\n",
              "        [45, 37, 35]],\n",
              "\n",
              "       [[46, 38, 36],\n",
              "        [46, 38, 36],\n",
              "        [46, 38, 36],\n",
              "        [46, 38, 36]],\n",
              "\n",
              "       [[48, 40, 38],\n",
              "        [48, 40, 38],\n",
              "        [48, 40, 38],\n",
              "        [48, 40, 38]],\n",
              "\n",
              "       [[49, 41, 39],\n",
              "        [49, 41, 39],\n",
              "        [49, 41, 39],\n",
              "        [49, 41, 39]]], dtype=uint8)"
            ]
          },
          "metadata": {
            "tags": []
          },
          "execution_count": 42
        }
      ]
    },
    {
      "metadata": {
        "id": "0qOWUyw0Vzre",
        "colab_type": "code",
        "colab": {
          "autoexec": {
            "startup": false,
            "wait_interval": 0
          }
        }
      },
      "cell_type": "code",
      "source": [
        "sz=224"
      ],
      "execution_count": 0,
      "outputs": []
    },
    {
      "metadata": {
        "id": "QAqn5tZIWZCz",
        "colab_type": "code",
        "colab": {
          "autoexec": {
            "startup": false,
            "wait_interval": 0
          }
        }
      },
      "cell_type": "code",
      "source": [
        "data=ImageClassifierData.from_paths(PATH,tfms=tfms_from_model(resnet34,sz),bs=32)"
      ],
      "execution_count": 0,
      "outputs": []
    },
    {
      "metadata": {
        "id": "Dv2QJubXWh1X",
        "colab_type": "code",
        "colab": {
          "autoexec": {
            "startup": false,
            "wait_interval": 0
          },
          "output_extras": [
            {
              "item_id": 439
            }
          ],
          "base_uri": "https://localhost:8080/",
          "height": 86
        },
        "outputId": "3426d5b9-6250-4809-fcc3-a1575aba0978",
        "executionInfo": {
          "status": "ok",
          "timestamp": 1522708503330,
          "user_tz": -330,
          "elapsed": 183876,
          "user": {
            "displayName": "Iresh Mishra",
            "photoUrl": "https://lh3.googleusercontent.com/a/default-user=s128",
            "userId": "113084233984419493374"
          }
        }
      },
      "cell_type": "code",
      "source": [
        "%time\n",
        "learn=ConvLearner.pretrained(resnet34,data,precompute=True )"
      ],
      "execution_count": 22,
      "outputs": [
        {
          "output_type": "stream",
          "text": [
            "CPU times: user 0 ns, sys: 0 ns, total: 0 ns\n",
            "Wall time: 13.8 µs\n",
            "100%|██████████| 719/719 [02:42<00:00,  4.42it/s]\n",
            "100%|██████████| 63/63 [00:14<00:00,  4.32it/s]\n"
          ],
          "name": "stdout"
        }
      ]
    },
    {
      "metadata": {
        "id": "X-FvOsUW4kBZ",
        "colab_type": "code",
        "colab": {
          "autoexec": {
            "startup": false,
            "wait_interval": 0
          },
          "output_extras": [
            {
              "item_id": 1
            },
            {
              "item_id": 34
            }
          ],
          "base_uri": "https://localhost:8080/",
          "height": 86
        },
        "outputId": "5d11ff11-981f-45e8-d0d7-b088b2ea41d7",
        "executionInfo": {
          "status": "ok",
          "timestamp": 1522708896578,
          "user_tz": -330,
          "elapsed": 26570,
          "user": {
            "displayName": "Iresh Mishra",
            "photoUrl": "https://lh3.googleusercontent.com/a/default-user=s128",
            "userId": "113084233984419493374"
          }
        }
      },
      "cell_type": "code",
      "source": [
        "learn.fit(0.01, 2)"
      ],
      "execution_count": 31,
      "outputs": [
        {
          "output_type": "display_data",
          "data": {
            "application/vnd.jupyter.widget-view+json": {
              "model_id": "e3bdbdce126b401ca0bf8861061ae355",
              "version_minor": 0,
              "version_major": 2
            },
            "text/plain": [
              "HBox(children=(IntProgress(value=0, description='Epoch', max=2), HTML(value='')))"
            ]
          },
          "metadata": {
            "tags": []
          }
        },
        {
          "output_type": "stream",
          "text": [
            "[0.      0.03476 0.03213 0.98909]\n",
            "[1.      0.04586 0.02756 0.99107]\n",
            "\n"
          ],
          "name": "stdout"
        }
      ]
    },
    {
      "metadata": {
        "id": "WY-ybAmh2lkM",
        "colab_type": "text"
      },
      "cell_type": "markdown",
      "source": [
        "How good is this model? Well, as we mentioned, prior to this competition, the state of the art was 80% accuracy. But the competition resulted in a huge jump to 98.9% accuracy, with the author of a popular deep learning library winning the competition. Extraordinarily, less than 4 years later, we can now beat that result in seconds! Even last year in this same course, our initial model had 98.3% accuracy, which is nearly double the error we're getting just a year later, and that took around 10 minutes to compute.\n",
        "\n"
      ]
    },
    {
      "metadata": {
        "id": "h26ZKLVygYwe",
        "colab_type": "code",
        "colab": {
          "autoexec": {
            "startup": false,
            "wait_interval": 0
          },
          "output_extras": [
            {
              "item_id": 1
            },
            {
              "item_id": 28
            }
          ],
          "base_uri": "https://localhost:8080/",
          "height": 52
        },
        "outputId": "f14d7a71-8cd2-4d6b-92cf-dea3a513e2e1",
        "executionInfo": {
          "status": "ok",
          "timestamp": 1522708938682,
          "user_tz": -330,
          "elapsed": 14088,
          "user": {
            "displayName": "Iresh Mishra",
            "photoUrl": "https://lh3.googleusercontent.com/a/default-user=s128",
            "userId": "113084233984419493374"
          }
        }
      },
      "cell_type": "code",
      "source": [
        "learn1=ConvLearner.pretrained(resnet34,data,precompute=True )\n",
        "lrf=learn1.lr_find()"
      ],
      "execution_count": 33,
      "outputs": [
        {
          "output_type": "display_data",
          "data": {
            "application/vnd.jupyter.widget-view+json": {
              "model_id": "26c6e171c485405293f8076b9064a15e",
              "version_minor": 0,
              "version_major": 2
            },
            "text/plain": [
              "HBox(children=(IntProgress(value=0, description='Epoch', max=1), HTML(value='')))"
            ]
          },
          "metadata": {
            "tags": []
          }
        },
        {
          "output_type": "stream",
          "text": [
            " 75%|███████▍  | 536/719 [00:11<00:03, 47.82it/s, loss=0.371]"
          ],
          "name": "stdout"
        }
      ]
    },
    {
      "metadata": {
        "id": "yhE_b_gvgk4O",
        "colab_type": "code",
        "colab": {
          "autoexec": {
            "startup": false,
            "wait_interval": 0
          },
          "output_extras": [
            {
              "item_id": 1
            },
            {
              "item_id": 5
            },
            {
              "item_id": 9
            },
            {
              "item_id": 14
            },
            {
              "item_id": 16
            },
            {
              "item_id": 17
            },
            {
              "item_id": 32
            }
          ],
          "base_uri": "https://localhost:8080/",
          "height": 2379
        },
        "outputId": "50febf27-5e34-46e2-b98f-bd8c191d8694",
        "executionInfo": {
          "status": "ok",
          "timestamp": 1522709063958,
          "user_tz": -330,
          "elapsed": 11980,
          "user": {
            "displayName": "Iresh Mishra",
            "photoUrl": "https://lh3.googleusercontent.com/a/default-user=s128",
            "userId": "113084233984419493374"
          }
        }
      },
      "cell_type": "code",
      "source": [
        "learn1.lr_find()\n"
      ],
      "execution_count": 38,
      "outputs": [
        {
          "output_type": "display_data",
          "data": {
            "application/vnd.jupyter.widget-view+json": {
              "model_id": "52d9bef57b4449eeb9e69249283005cb",
              "version_minor": 0,
              "version_major": 2
            },
            "text/plain": [
              "HBox(children=(IntProgress(value=0, description='Epoch', max=1), HTML(value='')))"
            ]
          },
          "metadata": {
            "tags": []
          }
        },
        {
          "output_type": "stream",
          "text": [
            "\n",
            "  0%|          | 0/719 [00:00<?, ?it/s]\u001b[A\n",
            "  0%|          | 0/719 [00:00<?, ?it/s, loss=0.895]\u001b[A\n",
            "  0%|          | 0/719 [00:00<?, ?it/s, loss=0.904]\u001b[A\n",
            "  0%|          | 2/719 [00:00<00:53, 13.35it/s, loss=0.904]\u001b[A\n",
            "  0%|          | 2/719 [00:00<01:09, 10.26it/s, loss=0.926]\u001b[A\n",
            "  0%|          | 2/719 [00:00<01:25,  8.39it/s, loss=0.886]\u001b[A\n",
            "  1%|          | 4/719 [00:00<00:45, 15.56it/s, loss=0.886]\u001b[A\n",
            "  1%|          | 4/719 [00:00<00:53, 13.30it/s, loss=0.869]\u001b[A\n",
            "  1%|          | 4/719 [00:00<01:02, 11.36it/s, loss=0.885]\u001b[A\n",
            "  1%|          | 6/719 [00:00<00:45, 15.62it/s, loss=0.885]\u001b[A\n",
            "  1%|          | 6/719 [00:00<00:48, 14.60it/s, loss=0.903]\u001b[A\n",
            "  1%|          | 6/719 [00:00<00:54, 12.98it/s, loss=0.891]\u001b[A\n",
            "  1%|          | 8/719 [00:00<00:43, 16.41it/s, loss=0.891]\u001b[A\n",
            "  1%|          | 8/719 [00:00<00:47, 14.95it/s, loss=0.918]\u001b[A\n",
            "  1%|          | 8/719 [00:00<00:51, 13.76it/s, loss=0.916]\u001b[A\n",
            "  1%|▏         | 10/719 [00:00<00:42, 16.68it/s, loss=0.916]\u001b[A\n",
            "  1%|▏         | 10/719 [00:00<00:45, 15.54it/s, loss=0.893]\u001b[A\n",
            "  1%|▏         | 10/719 [00:00<00:49, 14.41it/s, loss=0.904]\u001b[A\n",
            "  2%|▏         | 12/719 [00:00<00:42, 16.62it/s, loss=0.904]\u001b[A\n",
            "  2%|▏         | 12/719 [00:00<00:45, 15.51it/s, loss=0.9]  \u001b[A\n",
            "  2%|▏         | 12/719 [00:00<00:49, 14.42it/s, loss=0.893]\u001b[A\n",
            "  2%|▏         | 14/719 [00:00<00:43, 16.29it/s, loss=0.893]\u001b[A\n",
            "  2%|▏         | 14/719 [00:00<00:45, 15.39it/s, loss=0.899]\u001b[A\n",
            "  2%|▏         | 14/719 [00:00<00:47, 14.71it/s, loss=0.894]\u001b[A\n",
            "  2%|▏         | 16/719 [00:00<00:42, 16.40it/s, loss=0.894]\u001b[A\n",
            "  2%|▏         | 16/719 [00:01<00:44, 15.78it/s, loss=0.931]\u001b[A\n",
            "  2%|▏         | 16/719 [00:01<00:46, 15.25it/s, loss=0.915]\u001b[A\n",
            "  3%|▎         | 18/719 [00:01<00:41, 16.76it/s, loss=0.915]\u001b[A\n",
            "  3%|▎         | 18/719 [00:01<00:43, 16.24it/s, loss=0.914]\u001b[A\n",
            "  3%|▎         | 18/719 [00:01<00:45, 15.39it/s, loss=0.914]\u001b[A\n",
            "  3%|▎         | 20/719 [00:01<00:41, 16.73it/s, loss=0.914]\u001b[A\n",
            "  3%|▎         | 20/719 [00:01<00:43, 16.03it/s, loss=0.919]\u001b[A\n",
            "  3%|▎         | 20/719 [00:01<00:44, 15.61it/s, loss=0.911]"
          ],
          "name": "stdout"
        },
        {
          "output_type": "stream",
          "text": [
            "\u001b[A\n",
            "  3%|▎         | 22/719 [00:01<00:41, 16.85it/s, loss=0.911]\u001b[A\n",
            "  3%|▎         | 22/719 [00:01<00:43, 16.14it/s, loss=0.907]\u001b[A\n",
            "  3%|▎         | 22/719 [00:01<00:44, 15.51it/s, loss=0.908]\u001b[A\n",
            "  3%|▎         | 24/719 [00:01<00:41, 16.71it/s, loss=0.908]\u001b[A\n",
            "  3%|▎         | 24/719 [00:01<00:42, 16.18it/s, loss=0.899]\u001b[A\n",
            "  3%|▎         | 24/719 [00:01<00:44, 15.71it/s, loss=0.897]\u001b[A\n",
            "  4%|▎         | 26/719 [00:01<00:41, 16.70it/s, loss=0.897]\u001b[A\n",
            "  4%|▎         | 26/719 [00:01<00:42, 16.19it/s, loss=0.888]\u001b[A\n",
            "  4%|▎         | 26/719 [00:01<00:44, 15.69it/s, loss=0.889]\u001b[A\n",
            "  4%|▍         | 28/719 [00:01<00:41, 16.63it/s, loss=0.889]\u001b[A\n",
            "  4%|▍         | 28/719 [00:01<00:42, 16.23it/s, loss=0.889]\u001b[A\n",
            "  4%|▍         | 28/719 [00:01<00:43, 15.79it/s, loss=0.885]\u001b[A\n",
            "  4%|▍         | 30/719 [00:01<00:41, 16.73it/s, loss=0.885]\u001b[A\n",
            "  4%|▍         | 30/719 [00:01<00:42, 16.40it/s, loss=0.888]\u001b[A\n",
            "  4%|▍         | 30/719 [00:01<00:42, 16.08it/s, loss=0.893]\u001b[A\n",
            "  4%|▍         | 30/719 [00:01<00:43, 15.69it/s, loss=0.887]\u001b[A\n",
            "  5%|▍         | 33/719 [00:01<00:40, 17.08it/s, loss=0.887]\u001b[A\n",
            "  5%|▍         | 33/719 [00:01<00:41, 16.72it/s, loss=0.887]\u001b[A\n",
            "  5%|▍         | 33/719 [00:02<00:42, 16.26it/s, loss=0.891]\u001b[A\n",
            "  5%|▍         | 35/719 [00:02<00:39, 17.11it/s, loss=0.891]\u001b[A\n",
            "  5%|▍         | 35/719 [00:02<00:40, 16.75it/s, loss=0.892]\u001b[A\n",
            "  5%|▍         | 35/719 [00:02<00:41, 16.36it/s, loss=0.897]\u001b[A\n",
            "  5%|▌         | 37/719 [00:02<00:40, 17.02it/s, loss=0.897]\u001b[A\n",
            "  5%|▌         | 37/719 [00:02<00:40, 16.64it/s, loss=0.901]\u001b[A\n",
            "  5%|▌         | 37/719 [00:02<00:41, 16.24it/s, loss=0.898]\u001b[A\n",
            "  5%|▌         | 39/719 [00:02<00:40, 16.94it/s, loss=0.898]\u001b[A\n",
            "  5%|▌         | 39/719 [00:02<00:41, 16.45it/s, loss=0.892]\u001b[A\n",
            "  5%|▌         | 39/719 [00:02<00:42, 16.15it/s, loss=0.887]\u001b[A\n",
            "  6%|▌         | 41/719 [00:02<00:40, 16.79it/s, loss=0.887]\u001b[A\n",
            "  6%|▌         | 41/719 [00:02<00:41, 16.50it/s, loss=0.885]\u001b[A\n",
            "  6%|▌         | 41/719 [00:02<00:41, 16.18it/s, loss=0.882]\u001b[A\n",
            "  6%|▌         | 43/719 [00:02<00:40, 16.82it/s, loss=0.882]\u001b[A"
          ],
          "name": "stdout"
        },
        {
          "output_type": "stream",
          "text": [
            "\n",
            "  6%|▌         | 43/719 [00:02<00:41, 16.45it/s, loss=0.886]\u001b[A\n",
            "  6%|▌         | 43/719 [00:02<00:41, 16.15it/s, loss=0.885]\u001b[A\n",
            "  6%|▋         | 45/719 [00:02<00:40, 16.73it/s, loss=0.885]\u001b[A\n",
            "  6%|▋         | 45/719 [00:02<00:41, 16.34it/s, loss=0.881]\u001b[A\n",
            "  6%|▋         | 45/719 [00:02<00:42, 16.04it/s, loss=0.875]\u001b[A\n",
            "  7%|▋         | 47/719 [00:02<00:40, 16.65it/s, loss=0.875]\u001b[A\n",
            "  7%|▋         | 47/719 [00:02<00:41, 16.34it/s, loss=0.876]\u001b[A\n",
            "  7%|▋         | 47/719 [00:02<00:41, 16.04it/s, loss=0.871]\u001b[A\n",
            "  7%|▋         | 49/719 [00:02<00:40, 16.56it/s, loss=0.871]\u001b[A\n",
            "  7%|▋         | 49/719 [00:03<00:41, 16.28it/s, loss=0.867]\u001b[A\n",
            "  7%|▋         | 49/719 [00:03<00:41, 15.97it/s, loss=0.871]\u001b[A\n",
            "  7%|▋         | 51/719 [00:03<00:40, 16.51it/s, loss=0.871]\u001b[A\n",
            "  7%|▋         | 51/719 [00:03<00:41, 16.18it/s, loss=0.872]\u001b[A\n",
            "  7%|▋         | 51/719 [00:03<00:41, 15.92it/s, loss=0.872]\u001b[A\n",
            "  7%|▋         | 53/719 [00:03<00:40, 16.43it/s, loss=0.872]\u001b[A\n",
            "  7%|▋         | 53/719 [00:03<00:41, 16.24it/s, loss=0.874]\u001b[A\n",
            "  7%|▋         | 53/719 [00:03<00:41, 15.96it/s, loss=0.873]\u001b[A\n",
            "  8%|▊         | 55/719 [00:03<00:40, 16.43it/s, loss=0.873]\u001b[A\n",
            "  8%|▊         | 55/719 [00:03<00:40, 16.21it/s, loss=0.867]\u001b[A\n",
            "  8%|▊         | 55/719 [00:03<00:41, 15.96it/s, loss=0.862]\u001b[A\n",
            "  8%|▊         | 57/719 [00:03<00:40, 16.40it/s, loss=0.862]\u001b[A\n",
            "  8%|▊         | 57/719 [00:03<00:41, 16.11it/s, loss=0.861]\u001b[A\n",
            "  8%|▊         | 57/719 [00:03<00:41, 15.84it/s, loss=0.862]\u001b[A\n",
            "  8%|▊         | 59/719 [00:03<00:40, 16.29it/s, loss=0.862]\u001b[A\n",
            "  8%|▊         | 59/719 [00:03<00:41, 16.08it/s, loss=0.862]\u001b[A\n",
            "  8%|▊         | 59/719 [00:03<00:41, 15.86it/s, loss=0.862]\u001b[A\n",
            "  8%|▊         | 61/719 [00:03<00:40, 16.28it/s, loss=0.862]\u001b[A\n",
            "  8%|▊         | 61/719 [00:03<00:40, 16.06it/s, loss=0.861]\u001b[A\n",
            "  8%|▊         | 61/719 [00:03<00:41, 15.85it/s, loss=0.856]\u001b[A\n",
            "  9%|▉         | 63/719 [00:03<00:40, 16.27it/s, loss=0.856]\u001b[A\n",
            "  9%|▉         | 63/719 [00:03<00:40, 16.04it/s, loss=0.857]\u001b[A\n",
            "  9%|▉         | 63/719 [00:03<00:41, 15.79it/s, loss=0.853]\u001b[A"
          ],
          "name": "stdout"
        },
        {
          "output_type": "stream",
          "text": [
            "\n",
            "  9%|▉         | 65/719 [00:04<00:40, 16.17it/s, loss=0.853]\u001b[A\n",
            "  9%|▉         | 65/719 [00:04<00:40, 15.98it/s, loss=0.85] \u001b[A\n",
            "  9%|▉         | 65/719 [00:04<00:41, 15.78it/s, loss=0.853]\u001b[A\n",
            "  9%|▉         | 67/719 [00:04<00:40, 16.16it/s, loss=0.853]\u001b[A\n",
            "  9%|▉         | 67/719 [00:04<00:40, 15.97it/s, loss=0.852]\u001b[A\n",
            "  9%|▉         | 67/719 [00:04<00:41, 15.78it/s, loss=0.85] \u001b[A\n",
            " 10%|▉         | 69/719 [00:04<00:40, 16.14it/s, loss=0.85]\u001b[A\n",
            " 10%|▉         | 69/719 [00:04<00:40, 15.89it/s, loss=0.848]\u001b[A\n",
            " 10%|▉         | 69/719 [00:04<00:41, 15.72it/s, loss=0.847]\u001b[A\n",
            " 10%|▉         | 71/719 [00:04<00:40, 16.07it/s, loss=0.847]\u001b[A\n",
            " 10%|▉         | 71/719 [00:04<00:40, 15.94it/s, loss=0.848]\u001b[A\n",
            " 10%|▉         | 71/719 [00:04<00:41, 15.79it/s, loss=0.842]\u001b[A\n",
            " 10%|█         | 73/719 [00:04<00:40, 16.14it/s, loss=0.842]\u001b[A\n",
            " 10%|█         | 73/719 [00:04<00:40, 15.94it/s, loss=0.851]\u001b[A\n",
            " 10%|█         | 73/719 [00:04<00:40, 15.79it/s, loss=0.848]\u001b[A\n",
            "\n",
            " 11%|█         | 77/719 [00:04<00:40, 16.00it/s, loss=0.841]"
          ],
          "name": "stdout"
        },
        {
          "output_type": "stream",
          "text": [
            "Exception in thread Thread-23:\n",
            "Traceback (most recent call last):\n",
            "  File \"/usr/lib/python3.6/threading.py\", line 916, in _bootstrap_inner\n",
            "    self.run()\n",
            "  File \"/usr/local/lib/python3.6/dist-packages/tqdm/_monitor.py\", line 62, in run\n",
            "    for instance in self.tqdm_cls._instances:\n",
            "  File \"/usr/lib/python3.6/_weakrefset.py\", line 60, in __iter__\n",
            "    for itemref in self.data:\n",
            "RuntimeError: Set changed size during iteration\n",
            "\n",
            "Exception in thread Thread-24:\n",
            "Traceback (most recent call last):\n",
            "  File \"/usr/lib/python3.6/threading.py\", line 916, in _bootstrap_inner\n",
            "    self.run()\n",
            "  File \"/usr/local/lib/python3.6/dist-packages/tqdm/_monitor.py\", line 62, in run\n",
            "    for instance in self.tqdm_cls._instances:\n",
            "  File \"/usr/lib/python3.6/_weakrefset.py\", line 60, in __iter__\n",
            "    for itemref in self.data:\n",
            "RuntimeError: Set changed size during iteration\n",
            "\n"
          ],
          "name": "stderr"
        },
        {
          "output_type": "stream",
          "text": [
            " 74%|███████▎  | 530/719 [00:10<00:03, 48.33it/s, loss=0.364]\n"
          ],
          "name": "stdout"
        }
      ]
    },
    {
      "metadata": {
        "id": "Md_8lvxwh_e-",
        "colab_type": "code",
        "colab": {
          "autoexec": {
            "startup": false,
            "wait_interval": 0
          },
          "output_extras": [
            {
              "item_id": 1
            }
          ],
          "base_uri": "https://localhost:8080/",
          "height": 361
        },
        "outputId": "5c19aecc-026e-4c8d-8951-a25665cd94c1",
        "executionInfo": {
          "status": "ok",
          "timestamp": 1522709088072,
          "user_tz": -330,
          "elapsed": 956,
          "user": {
            "displayName": "Iresh Mishra",
            "photoUrl": "https://lh3.googleusercontent.com/a/default-user=s128",
            "userId": "113084233984419493374"
          }
        }
      },
      "cell_type": "code",
      "source": [
        "learn1.sched.plot_lr()"
      ],
      "execution_count": 39,
      "outputs": [
        {
          "output_type": "display_data",
          "data": {
            "image/png": "[encoded data removed]",
            "text/plain": [
              "<matplotlib.figure.Figure at 0x7fb4d4479208>"
            ]
          },
          "metadata": {
            "tags": []
          }
        }
      ]
    },
    {
      "metadata": {
        "id": "FUDR6XO6iRd4",
        "colab_type": "code",
        "colab": {
          "autoexec": {
            "startup": false,
            "wait_interval": 0
          },
          "output_extras": [
            {
              "item_id": 1
            }
          ],
          "base_uri": "https://localhost:8080/",
          "height": 365
        },
        "outputId": "0c002b82-8b88-4500-b637-0005d6022e01",
        "executionInfo": {
          "status": "ok",
          "timestamp": 1522709128090,
          "user_tz": -330,
          "elapsed": 956,
          "user": {
            "displayName": "Iresh Mishra",
            "photoUrl": "https://lh3.googleusercontent.com/a/default-user=s128",
            "userId": "113084233984419493374"
          }
        }
      },
      "cell_type": "code",
      "source": [
        "learn1.sched.plot()"
      ],
      "execution_count": 41,
      "outputs": [
        {
          "output_type": "display_data",
          "data": {
            "image/png": "[encoded data removed]",
            "text/plain": [
              "<matplotlib.figure.Figure at 0x7fb4d44c3780>"
            ]
          },
          "metadata": {
            "tags": []
          }
        }
      ]
    }
  ]
}